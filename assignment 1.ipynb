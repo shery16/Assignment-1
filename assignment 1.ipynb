{
 "cells": [
  {
   "cell_type": "markdown",
   "id": "f77c305e-9dd9-415f-b7ae-e89b340abc14",
   "metadata": {},
   "source": [
    "# Assignment1"
   ]
  },
  {
   "cell_type": "code",
   "execution_count": 1,
   "id": "50f4d39b-fc3f-4b33-a448-d78c0970a801",
   "metadata": {},
   "outputs": [],
   "source": [
    "salaries = ['20K','40K','50K','60K','35K','89K','40K']"
   ]
  },
  {
   "cell_type": "code",
   "execution_count": 2,
   "id": "d60c5b4b-26d5-44b8-abdb-ecd8ff5b1218",
   "metadata": {},
   "outputs": [
    {
     "data": {
      "text/plain": [
       "7"
      ]
     },
     "execution_count": 2,
     "metadata": {},
     "output_type": "execute_result"
    }
   ],
   "source": [
    "len(salaries)"
   ]
  },
  {
   "cell_type": "code",
   "execution_count": 3,
   "id": "5df0efcc-2c68-4d11-a5b6-b169083baecb",
   "metadata": {},
   "outputs": [
    {
     "data": {
      "text/plain": [
       "['20K', '40K', '50K', '60K', '35K', '89K', '40K']"
      ]
     },
     "execution_count": 3,
     "metadata": {},
     "output_type": "execute_result"
    }
   ],
   "source": [
    "salaries"
   ]
  },
  {
   "cell_type": "code",
   "execution_count": 5,
   "id": "30a2e5c4-8dba-415e-b38c-b974b5a3335d",
   "metadata": {},
   "outputs": [
    {
     "data": {
      "text/plain": [
       "'50K'"
      ]
     },
     "execution_count": 5,
     "metadata": {},
     "output_type": "execute_result"
    }
   ],
   "source": [
    "salaries[2]"
   ]
  },
  {
   "cell_type": "code",
   "execution_count": 6,
   "id": "bb751a66-da34-428d-a113-3ea25b5476e6",
   "metadata": {},
   "outputs": [
    {
     "data": {
      "text/plain": [
       "['20K', '40K', '50K', '60K', '35K', '89K', '40K']"
      ]
     },
     "execution_count": 6,
     "metadata": {},
     "output_type": "execute_result"
    }
   ],
   "source": [
    "salaries"
   ]
  },
  {
   "cell_type": "code",
   "execution_count": 7,
   "id": "42931df3-4881-4c29-8596-506acff3c68b",
   "metadata": {},
   "outputs": [
    {
     "data": {
      "text/plain": [
       "'40K'"
      ]
     },
     "execution_count": 7,
     "metadata": {},
     "output_type": "execute_result"
    }
   ],
   "source": [
    "salaries[-1]"
   ]
  },
  {
   "cell_type": "code",
   "execution_count": 8,
   "id": "15ab6d69-a480-45db-8c23-c9508aaa4eb3",
   "metadata": {},
   "outputs": [
    {
     "data": {
      "text/plain": [
       "['20K', '40K', '50K', '60K', '35K', '89K', '40K']"
      ]
     },
     "execution_count": 8,
     "metadata": {},
     "output_type": "execute_result"
    }
   ],
   "source": [
    "salaries"
   ]
  },
  {
   "cell_type": "code",
   "execution_count": 11,
   "id": "1a9371ba-b161-4d12-87d5-0fbbe4aebd3c",
   "metadata": {},
   "outputs": [
    {
     "data": {
      "text/plain": [
       "['50K', '60K', '35K']"
      ]
     },
     "execution_count": 11,
     "metadata": {},
     "output_type": "execute_result"
    }
   ],
   "source": [
    "salaries[2:5]"
   ]
  },
  {
   "cell_type": "code",
   "execution_count": 12,
   "id": "3204252a-a1be-4e3e-aa58-6298c495af58",
   "metadata": {},
   "outputs": [],
   "source": [
    "salaries.append('100K')"
   ]
  },
  {
   "cell_type": "code",
   "execution_count": 13,
   "id": "f3153db4-42a3-4829-842a-36e4b6ceba76",
   "metadata": {},
   "outputs": [
    {
     "data": {
      "text/plain": [
       "['20K', '40K', '50K', '60K', '35K', '89K', '40K', '100K']"
      ]
     },
     "execution_count": 13,
     "metadata": {},
     "output_type": "execute_result"
    }
   ],
   "source": [
    "salaries"
   ]
  },
  {
   "cell_type": "code",
   "execution_count": 14,
   "id": "a715a441-8dff-4eea-9ab1-2f5d03224481",
   "metadata": {},
   "outputs": [],
   "source": [
    "salaries[len(salaries):]=['120K']"
   ]
  },
  {
   "cell_type": "code",
   "execution_count": 15,
   "id": "43bf16ad-981f-4cec-ac0c-eb76f3b29cdb",
   "metadata": {},
   "outputs": [
    {
     "data": {
      "text/plain": [
       "['20K', '40K', '50K', '60K', '35K', '89K', '40K', '100K', '120K']"
      ]
     },
     "execution_count": 15,
     "metadata": {},
     "output_type": "execute_result"
    }
   ],
   "source": [
    "salaries"
   ]
  },
  {
   "cell_type": "code",
   "execution_count": 16,
   "id": "83932a49-f792-4b68-97a2-b3128ec0ce17",
   "metadata": {},
   "outputs": [],
   "source": [
    "salaries[2]='55K'"
   ]
  },
  {
   "cell_type": "code",
   "execution_count": 17,
   "id": "380826ab-01e4-43fd-acf7-85aef42e1991",
   "metadata": {},
   "outputs": [
    {
     "data": {
      "text/plain": [
       "['20K', '40K', '55K', '60K', '35K', '89K', '40K', '100K', '120K']"
      ]
     },
     "execution_count": 17,
     "metadata": {},
     "output_type": "execute_result"
    }
   ],
   "source": [
    "salaries"
   ]
  },
  {
   "cell_type": "code",
   "execution_count": 20,
   "id": "106f643a-35dc-4b30-9bec-b11862adde7f",
   "metadata": {},
   "outputs": [
    {
     "data": {
      "text/plain": [
       "2"
      ]
     },
     "execution_count": 20,
     "metadata": {},
     "output_type": "execute_result"
    }
   ],
   "source": [
    "salaries.count('40K')"
   ]
  },
  {
   "cell_type": "code",
   "execution_count": 21,
   "id": "966db96a-db50-4cf5-ac46-48e570a49211",
   "metadata": {},
   "outputs": [
    {
     "data": {
      "text/plain": [
       "['20K', '40K', '55K', '60K', '35K', '89K', '40K', '100K', '120K']"
      ]
     },
     "execution_count": 21,
     "metadata": {},
     "output_type": "execute_result"
    }
   ],
   "source": [
    "salaries"
   ]
  },
  {
   "cell_type": "code",
   "execution_count": 22,
   "id": "c298d41e-a8e3-42f3-901f-4f3961ebd8eb",
   "metadata": {},
   "outputs": [],
   "source": [
    "salaries.insert(1,'30K')"
   ]
  },
  {
   "cell_type": "code",
   "execution_count": 23,
   "id": "14dfa185-5d14-47b6-b69b-09d04190f4e6",
   "metadata": {},
   "outputs": [
    {
     "data": {
      "text/plain": [
       "['20K', '30K', '40K', '55K', '60K', '35K', '89K', '40K', '100K', '120K']"
      ]
     },
     "execution_count": 23,
     "metadata": {},
     "output_type": "execute_result"
    }
   ],
   "source": [
    "salaries"
   ]
  },
  {
   "cell_type": "code",
   "execution_count": 24,
   "id": "a12edadf-a752-44c5-b431-c6d0da63b53b",
   "metadata": {},
   "outputs": [],
   "source": [
    "salaries.reverse()"
   ]
  },
  {
   "cell_type": "code",
   "execution_count": 25,
   "id": "3a21c007-2ed2-4d29-869e-886d2f8404c5",
   "metadata": {},
   "outputs": [
    {
     "data": {
      "text/plain": [
       "['120K', '100K', '40K', '89K', '35K', '60K', '55K', '40K', '30K', '20K']"
      ]
     },
     "execution_count": 25,
     "metadata": {},
     "output_type": "execute_result"
    }
   ],
   "source": [
    "salaries"
   ]
  },
  {
   "cell_type": "code",
   "execution_count": 26,
   "id": "e4ac585a-15af-48db-90d2-5a1663567edf",
   "metadata": {},
   "outputs": [
    {
     "data": {
      "text/plain": [
       "['20K', '30K', '40K', '55K', '60K', '35K', '89K', '40K', '100K', '120K']"
      ]
     },
     "execution_count": 26,
     "metadata": {},
     "output_type": "execute_result"
    }
   ],
   "source": [
    "salaries[::-1]"
   ]
  },
  {
   "cell_type": "code",
   "execution_count": null,
   "id": "a06e9005-b9c1-4f2e-983c-8affcd7e6879",
   "metadata": {},
   "outputs": [],
   "source": []
  },
  {
   "cell_type": "code",
   "execution_count": null,
   "id": "bf99836c-a4a2-4020-aca4-fabd1cb4ead9",
   "metadata": {},
   "outputs": [],
   "source": []
  },
  {
   "cell_type": "code",
   "execution_count": null,
   "id": "a2dd1463-c6e9-4bcf-8382-27ce4773980c",
   "metadata": {},
   "outputs": [],
   "source": []
  },
  {
   "cell_type": "code",
   "execution_count": null,
   "id": "f4388900-49ca-482d-a42b-fcdc8a8ed12f",
   "metadata": {},
   "outputs": [],
   "source": []
  },
  {
   "cell_type": "code",
   "execution_count": null,
   "id": "d69cc58e-d0de-46bd-95db-77c54aa23f02",
   "metadata": {},
   "outputs": [],
   "source": []
  },
  {
   "cell_type": "code",
   "execution_count": null,
   "id": "f7053b5d-3fdb-40b7-922c-fed43e2778dd",
   "metadata": {},
   "outputs": [],
   "source": []
  },
  {
   "cell_type": "code",
   "execution_count": null,
   "id": "ac748eb9-970d-46ad-8ef0-0dd2992dd04f",
   "metadata": {},
   "outputs": [],
   "source": []
  },
  {
   "cell_type": "code",
   "execution_count": null,
   "id": "122f7c81-2158-4b08-b871-e5a22c7fb83c",
   "metadata": {},
   "outputs": [],
   "source": []
  },
  {
   "cell_type": "code",
   "execution_count": null,
   "id": "0a34be41-e497-4b9a-ad8b-9095bd7b07e8",
   "metadata": {},
   "outputs": [],
   "source": []
  },
  {
   "cell_type": "code",
   "execution_count": null,
   "id": "9e7927dc-756b-4f3a-9cbe-2d15c95d3451",
   "metadata": {},
   "outputs": [],
   "source": []
  },
  {
   "cell_type": "code",
   "execution_count": null,
   "id": "03b41594-70f2-4a63-a657-f1c0dc73fe8b",
   "metadata": {},
   "outputs": [],
   "source": []
  },
  {
   "cell_type": "code",
   "execution_count": null,
   "id": "afadae54-722f-4d8a-b0a2-734b93f07772",
   "metadata": {},
   "outputs": [],
   "source": []
  },
  {
   "cell_type": "code",
   "execution_count": null,
   "id": "3f0516b1-44f9-4f47-a97a-62a09b82beed",
   "metadata": {},
   "outputs": [],
   "source": []
  },
  {
   "cell_type": "code",
   "execution_count": null,
   "id": "15b4999e-6561-4faf-94b0-7346a6ad27db",
   "metadata": {},
   "outputs": [],
   "source": []
  },
  {
   "cell_type": "code",
   "execution_count": null,
   "id": "d6c03042-e5ad-463a-9c3f-bfb7b754134a",
   "metadata": {},
   "outputs": [],
   "source": []
  },
  {
   "cell_type": "code",
   "execution_count": null,
   "id": "051aef97-0785-4913-8528-79c92f711e97",
   "metadata": {},
   "outputs": [],
   "source": []
  },
  {
   "cell_type": "code",
   "execution_count": null,
   "id": "4b748910-356d-4de7-a6c2-c6f0a0e2da6a",
   "metadata": {},
   "outputs": [],
   "source": []
  },
  {
   "cell_type": "code",
   "execution_count": null,
   "id": "8fcbf84f-89f9-4c6a-a1c1-4b523aee5686",
   "metadata": {},
   "outputs": [],
   "source": []
  },
  {
   "cell_type": "code",
   "execution_count": null,
   "id": "145b9e40-8446-48a9-85b6-ba24913633e9",
   "metadata": {},
   "outputs": [],
   "source": []
  },
  {
   "cell_type": "code",
   "execution_count": null,
   "id": "d9a1edea-787f-4bd3-b77e-152fe74c7b72",
   "metadata": {},
   "outputs": [],
   "source": []
  },
  {
   "cell_type": "code",
   "execution_count": null,
   "id": "491b14aa-8113-421b-b5b1-4f88da5e51f1",
   "metadata": {},
   "outputs": [],
   "source": []
  },
  {
   "cell_type": "code",
   "execution_count": null,
   "id": "b9e6735b-fdaf-4cd7-a611-6464891d8505",
   "metadata": {},
   "outputs": [],
   "source": []
  },
  {
   "cell_type": "code",
   "execution_count": null,
   "id": "a5ade7df-61b2-4cbb-9c14-c258ef39e0af",
   "metadata": {},
   "outputs": [],
   "source": []
  },
  {
   "cell_type": "code",
   "execution_count": null,
   "id": "952d855c-90e6-41c9-83e5-0b504cdcab84",
   "metadata": {},
   "outputs": [],
   "source": []
  },
  {
   "cell_type": "code",
   "execution_count": null,
   "id": "74e8f8f9-0be8-4189-bd51-fd9cc2ddad10",
   "metadata": {},
   "outputs": [],
   "source": []
  },
  {
   "cell_type": "code",
   "execution_count": null,
   "id": "b11362aa-eaed-4bd9-b82d-d119029b0eb5",
   "metadata": {},
   "outputs": [],
   "source": []
  },
  {
   "cell_type": "code",
   "execution_count": null,
   "id": "7a0bec8b-fc6e-4706-9257-80a94ca68d11",
   "metadata": {},
   "outputs": [],
   "source": []
  },
  {
   "cell_type": "code",
   "execution_count": null,
   "id": "a554c500-111d-4496-b01a-723c8abc9ce6",
   "metadata": {},
   "outputs": [],
   "source": []
  },
  {
   "cell_type": "code",
   "execution_count": null,
   "id": "2d3f99d5-fe33-4a91-bf60-71b1ed136aed",
   "metadata": {},
   "outputs": [],
   "source": []
  },
  {
   "cell_type": "code",
   "execution_count": null,
   "id": "5469ae42-38f0-4f1e-a779-33412094f1e1",
   "metadata": {},
   "outputs": [],
   "source": []
  },
  {
   "cell_type": "code",
   "execution_count": null,
   "id": "3a9f5c1c-c2f7-4d5a-a149-f1947f11eea0",
   "metadata": {},
   "outputs": [],
   "source": []
  },
  {
   "cell_type": "code",
   "execution_count": null,
   "id": "3223b5de-6910-4103-9f0e-c86fa20e8daf",
   "metadata": {},
   "outputs": [],
   "source": []
  },
  {
   "cell_type": "code",
   "execution_count": null,
   "id": "6ffdb12a-01da-4d71-950c-89822f7bbaff",
   "metadata": {},
   "outputs": [],
   "source": []
  },
  {
   "cell_type": "code",
   "execution_count": null,
   "id": "e79b8995-e5f1-4547-b836-dd8f37afb34b",
   "metadata": {},
   "outputs": [],
   "source": []
  }
 ],
 "metadata": {
  "kernelspec": {
   "display_name": "Python 3 (ipykernel)",
   "language": "python",
   "name": "python3"
  },
  "language_info": {
   "codemirror_mode": {
    "name": "ipython",
    "version": 3
   },
   "file_extension": ".py",
   "mimetype": "text/x-python",
   "name": "python",
   "nbconvert_exporter": "python",
   "pygments_lexer": "ipython3",
   "version": "3.12.7"
  }
 },
 "nbformat": 4,
 "nbformat_minor": 5
}

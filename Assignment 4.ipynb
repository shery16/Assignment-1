{
 "cells": [
  {
   "cell_type": "markdown",
   "id": "3b5b4c4e-e02f-4b07-8bbe-3f2dd8a14dd0",
   "metadata": {},
   "source": [
    "## Q.1"
   ]
  },
  {
   "cell_type": "code",
   "execution_count": null,
   "id": "a05d7a7b-3bda-4614-8178-d75c48269765",
   "metadata": {},
   "outputs": [],
   "source": [
    "Q1. my_tuple = ( (1, 2, 3), [4, 5, 6], ('apple', 'banana', 'cherry'), [7, 8, 9] )\n",
    "•\tPrint all elements from my_tuple on a new line (using for loop)\n",
    "•\tCreate a new tuple by concatenating the first and last elements of my_tuple\n"
   ]
  },
  {
   "cell_type": "code",
   "execution_count": 1,
   "id": "58390390-e6dc-4b12-a5c7-e97192e9fbac",
   "metadata": {},
   "outputs": [],
   "source": [
    "my_tuple = ((1,2,3),[4,5,6],('apple','banana','cherry'),[7,8,9])"
   ]
  },
  {
   "cell_type": "code",
   "execution_count": 3,
   "id": "8681b518-7059-4354-9f7b-31609b238962",
   "metadata": {},
   "outputs": [
    {
     "name": "stdout",
     "output_type": "stream",
     "text": [
      "(1, 2, 3)\n",
      "[4, 5, 6]\n",
      "('apple', 'banana', 'cherry')\n",
      "[7, 8, 9]\n"
     ]
    }
   ],
   "source": [
    "for i in my_tuple:\n",
    "    print(i)"
   ]
  },
  {
   "cell_type": "code",
   "execution_count": 10,
   "id": "653491e3-f6f9-4f33-b00f-f1324b8b40d9",
   "metadata": {},
   "outputs": [
    {
     "data": {
      "text/plain": [
       "(1, 2, 3, 7, 8, 9)"
      ]
     },
     "execution_count": 10,
     "metadata": {},
     "output_type": "execute_result"
    }
   ],
   "source": [
    "my_tuple1 = my_tuple[0] + tuple(my_tuple[3])\n",
    "my_tuple1"
   ]
  },
  {
   "cell_type": "markdown",
   "id": "523074b3-6152-408d-8874-ebc911ed970a",
   "metadata": {},
   "source": [
    "## Q.2 "
   ]
  },
  {
   "cell_type": "code",
   "execution_count": null,
   "id": "2e07e116-21b8-4cf6-87d1-0a7f17b4df41",
   "metadata": {},
   "outputs": [],
   "source": [
    "Q2. inventory = { \"The Great Gatsby\": {\"price\": 10.99, \"quantity\": 5}, \"Rich dad poor dad\": {\"price\":\n",
    "8.99, \"quantity\": 8}, \"Harry Potter\": {\"price\": 12.50, \"quantity\": 2}, }\n",
    "•\tAdd a new book in inventory using method and get all book titles using method\n",
    "•\tRemove a book if it's out of stock\n"
   ]
  },
  {
   "cell_type": "code",
   "execution_count": 1,
   "id": "2da7817f-fea1-48f9-9e27-da949a52d949",
   "metadata": {},
   "outputs": [],
   "source": [
    "inventory = { \"The Great Gatsby\": {\"price\": 10.99, \"quantity\": 5}, \"Rich dad poor dad\": {\"price\":\n",
    "8.99, \"quantity\": 8}, \"Harry Potter\": {\"price\": 12.50, \"quantity\": 2}, }"
   ]
  },
  {
   "cell_type": "code",
   "execution_count": 18,
   "id": "47a4baf2-1bd3-4154-b5d3-31957a8a23af",
   "metadata": {},
   "outputs": [
    {
     "name": "stdout",
     "output_type": "stream",
     "text": [
      "book added: {'The Great Gatsby': {'price': 10.99, 'quantity': 5}, 'Rich dad poor dad': {'price': 8.99, 'quantity': 8}, 'Harry Potter': {'price': 12.5, 'quantity': 2}, '2025': {'price': 14, 'quantity': 6}}\n"
     ]
    }
   ],
   "source": [
    "inventory[\"2025\"] = {\"price\" : 14, \"quantity\" : 6}\n",
    "print(\"book added:\", inventory)\n"
   ]
  },
  {
   "cell_type": "code",
   "execution_count": 19,
   "id": "53ae0501-7a18-4ab4-8c5e-130183e23e81",
   "metadata": {},
   "outputs": [
    {
     "name": "stdout",
     "output_type": "stream",
     "text": [
      "all book titles: ['The Great Gatsby', 'Rich dad poor dad', 'Harry Potter', '2025']\n"
     ]
    }
   ],
   "source": [
    "titles = list(inventory.keys())\n",
    "print(\"all book titles:\", title)"
   ]
  },
  {
   "cell_type": "code",
   "execution_count": 26,
   "id": "60139810-b9d4-4336-87f5-add7a8d18a59",
   "metadata": {},
   "outputs": [
    {
     "name": "stdout",
     "output_type": "stream",
     "text": [
      "Updated inventory after removing out-of-stock books: {'The Great Gatsby': {'price': 10.99, 'quantity': 5}, 'Rich dad poor dad': {'price': 8.99, 'quantity': 8}, 'Harry Potter': {'price': 12.5, 'quantity': 2}, '2025': {'price': 14, 'quantity': 6}}\n"
     ]
    }
   ],
   "source": [
    "inventory = {title: details for title, details in inventory.items() if details[\"quantity\"] > 0}\n",
    "print(\"Updated inventory after removing out-of-stock books:\", inventory1)"
   ]
  },
  {
   "cell_type": "markdown",
   "id": "e49558b2-8609-447e-9a96-c8ddb4cc879e",
   "metadata": {},
   "source": [
    "## Q.3"
   ]
  },
  {
   "cell_type": "code",
   "execution_count": null,
   "id": "7961efcf-e34d-49d8-a67d-6cf4d230aa6d",
   "metadata": {},
   "outputs": [],
   "source": [
    "Q3. An ecommerce store stores information about its products in a nested dictionary. The outer dictionary uses product IDs as keys, and the inner dictionary stores product details like name, category, price, and stock quantity.\n",
    "products = { 101: {\"name\": \"Laptop\", \"category\": \"Electronics\", \"price\": 1200, \"stock\": 50}, 102:\n",
    "{\"name\": \"Shirt\", \"category\": \"Apparel\", \"price\": 25, \"stock\": 200}, 103: {\"name\": \"Coffee Maker\",\n",
    "\"category\": \"Home Appliances\", \"price\": 80, \"stock\": 30} }\n",
    "•\tIncrease the stock of the \"Shirt\" product (add 50 more units)\n",
    "•\tAdd a new product (e.g., \"Smartphone\")\n"
   ]
  },
  {
   "cell_type": "code",
   "execution_count": 36,
   "id": "de406535-80fd-44ee-846e-5d1cc76b2646",
   "metadata": {},
   "outputs": [],
   "source": [
    "products = { 101: {\"name\": \"Laptop\", \"category\": \"Electronics\", \"price\": 1200, \"stock\": 50}, 102:\n",
    "{\"name\": \"Shirt\", \"category\": \"Apparel\", \"price\": 25, \"stock\": 200}, 103: {\"name\": \"Coffee Maker\",\n",
    "\"category\": \"Home Appliances\", \"price\": 80, \"stock\": 30} }"
   ]
  },
  {
   "cell_type": "code",
   "execution_count": 74,
   "id": "40b1e2bc-e812-4ac0-87da-edb16a9547da",
   "metadata": {},
   "outputs": [
    {
     "data": {
      "text/plain": [
       "{101: {'name': 'Laptop',\n",
       "  'category': 'Electronics',\n",
       "  'price': 1200,\n",
       "  'stock': 50},\n",
       " 102: {'name': 'Shirt', 'category': 'Apparel', 'price': 25, 'stock': 250},\n",
       " 103: {'name': 'Coffee Maker',\n",
       "  'category': 'Home Appliances',\n",
       "  'price': 80,\n",
       "  'stock': 30},\n",
       " 104: {'name': 'smartphone',\n",
       "  'category': 'Electronics',\n",
       "  'price': 3000,\n",
       "  'stock': 70}}"
      ]
     },
     "execution_count": 74,
     "metadata": {},
     "output_type": "execute_result"
    }
   ],
   "source": [
    "products[102][\"stock\"] = 200 + 50\n",
    "products"
   ]
  },
  {
   "cell_type": "code",
   "execution_count": 39,
   "id": "9b51f3db-b19d-47e6-b503-5afb14280861",
   "metadata": {},
   "outputs": [
    {
     "data": {
      "text/plain": [
       "{101: {'name': 'Laptop',\n",
       "  'category': 'Electronics',\n",
       "  'price': 1200,\n",
       "  'stock': 50},\n",
       " 102: {'name': 'Shirt', 'category': 'Apparel', 'price': 25, 'stock': 250},\n",
       " 103: {'name': 'Coffee Maker',\n",
       "  'category': 'Home Appliances',\n",
       "  'price': 80,\n",
       "  'stock': 30},\n",
       " 104: {'name': 'smartphone',\n",
       "  'category': 'Electronics',\n",
       "  'price': 3000,\n",
       "  'stock': 70}}"
      ]
     },
     "execution_count": 39,
     "metadata": {},
     "output_type": "execute_result"
    }
   ],
   "source": [
    "products[104] = {\"name\": \"smartphone\", \"category\": \"Electronics\", \"price\": 3000, \"stock\": 70}\n",
    "products"
   ]
  },
  {
   "cell_type": "markdown",
   "id": "0e57ee55-6b38-4e66-9cc7-c4d17d2747cc",
   "metadata": {},
   "source": [
    "## Q.4"
   ]
  },
  {
   "cell_type": "code",
   "execution_count": null,
   "id": "5111e2f1-6479-4500-9a53-a681bf020f16",
   "metadata": {},
   "outputs": [],
   "source": [
    "Q4. You are given a list that contains some duplicate items. Remove the duplicates by converting the list to a set. shopping_list = [\"apple\", \"banana\", \"apple\", \"orange\", \"banana\", \"grape\"]"
   ]
  },
  {
   "cell_type": "code",
   "execution_count": 40,
   "id": "281e28ff-9d01-4293-8cd2-8f5d8f0f9065",
   "metadata": {},
   "outputs": [],
   "source": [
    "shopping_list = [\"apple\", \"banana\", \"apple\", \"orange\", \"banana\", \"grape\"]"
   ]
  },
  {
   "cell_type": "code",
   "execution_count": 45,
   "id": "5612645b-2c27-4d8f-8ac0-7373944d15a4",
   "metadata": {},
   "outputs": [
    {
     "data": {
      "text/plain": [
       "{'apple', 'banana', 'grape', 'orange'}"
      ]
     },
     "execution_count": 45,
     "metadata": {},
     "output_type": "execute_result"
    }
   ],
   "source": [
    "shopping_list_set = set(shopping_list)\n",
    "shopping_list_set"
   ]
  },
  {
   "cell_type": "markdown",
   "id": "e143872a-5c8d-4138-a483-3228cd535c8d",
   "metadata": {},
   "source": [
    "## Q.5"
   ]
  },
  {
   "cell_type": "code",
   "execution_count": null,
   "id": "553cb22b-62da-464c-8e0a-3fd1f74276b2",
   "metadata": {},
   "outputs": [],
   "source": [
    "Q5. You are managing a list of students enrolled in two different courses. You need to perform various set operations to understand the student enrollment. Task: Create two sets: one for students in \"Course A\" and one for students in \"Course B\". Find the students who are in \"Course A\" but not in \"Course B\" (difference). Find students who are only in one of the two courses (symmetric difference). course_a = {\"John\", \"Alice\", \"Bob\", \"David\"} course_b = {\"Alice\", \"Eve\", \"Charlie\", \"David\"}\n",
    "•\tFind students who are in Course A but not in Course B (difference)\n",
    "•\tFind students who are only in one of the two courses (symmetric difference)\n"
   ]
  },
  {
   "cell_type": "code",
   "execution_count": 46,
   "id": "bfbdc6d5-20ba-414f-854c-2180400bc38b",
   "metadata": {},
   "outputs": [],
   "source": [
    "course_a = {\"John\", \"Alice\", \"Bob\", \"David\"} "
   ]
  },
  {
   "cell_type": "code",
   "execution_count": 47,
   "id": "8afdb9d4-17a3-4d80-b863-c51d9ee299db",
   "metadata": {},
   "outputs": [],
   "source": [
    "course_b = {\"Alice\", \"Eve\", \"Charlie\", \"David\"}"
   ]
  },
  {
   "cell_type": "code",
   "execution_count": 49,
   "id": "2385a92c-b67d-47ae-bfd6-72c09eebe8b4",
   "metadata": {},
   "outputs": [
    {
     "data": {
      "text/plain": [
       "{'Bob', 'John'}"
      ]
     },
     "execution_count": 49,
     "metadata": {},
     "output_type": "execute_result"
    }
   ],
   "source": [
    "course = course_a.difference(course_b)\n",
    "course"
   ]
  },
  {
   "cell_type": "code",
   "execution_count": 51,
   "id": "30bf72f9-1741-4842-a2e4-241e868e3ee5",
   "metadata": {},
   "outputs": [
    {
     "data": {
      "text/plain": [
       "{'Bob', 'Charlie', 'Eve', 'John'}"
      ]
     },
     "execution_count": 51,
     "metadata": {},
     "output_type": "execute_result"
    }
   ],
   "source": [
    "course_1 = course_a.symmetric_difference(course_b)\n",
    "course_1"
   ]
  },
  {
   "cell_type": "markdown",
   "id": "1a77ce5f-f757-45ff-b8ef-8336eab5f556",
   "metadata": {},
   "source": [
    "## Q.6"
   ]
  },
  {
   "cell_type": "code",
   "execution_count": null,
   "id": "883a752e-6018-4cd2-9a57-86bd8c347e65",
   "metadata": {},
   "outputs": [],
   "source": [
    "Q6. Write a Python program that calculates the sum of all even numbers between 1 and 50 (inclusive) using a for loop.\n",
    "Hint\n",
    "1.\tInitialize a variable to hold the sum (e.g., sum_of_evens).\n",
    "2.\tUse a for loop to iterate through all numbers from 1 to 50.\n",
    "3.\tInside the loop, check if the number is even.\n",
    "4.\tIf the number is even, add it to sum_of_evens.\n",
    "5.\tAfter the loop finishes, print the total sum of all even numbers between 1 and 50.\n"
   ]
  },
  {
   "cell_type": "code",
   "execution_count": 57,
   "id": "1fc21da7-5a72-437b-bd87-39f6ff3496fd",
   "metadata": {},
   "outputs": [
    {
     "name": "stdout",
     "output_type": "stream",
     "text": [
      "2\n",
      "4\n",
      "6\n",
      "8\n",
      "10\n",
      "12\n",
      "14\n",
      "16\n",
      "18\n",
      "20\n",
      "22\n",
      "24\n",
      "26\n",
      "28\n",
      "30\n",
      "32\n",
      "34\n",
      "36\n",
      "38\n",
      "40\n",
      "42\n",
      "44\n",
      "46\n",
      "48\n",
      "50\n"
     ]
    }
   ],
   "source": [
    "for i in range(2,51,2):\n",
    "    print(i)\n",
    "\n"
   ]
  },
  {
   "cell_type": "code",
   "execution_count": 81,
   "id": "49e978f0-9d03-4e79-984b-9fd7f08b2798",
   "metadata": {},
   "outputs": [
    {
     "name": "stdout",
     "output_type": "stream",
     "text": [
      "the sum : 2\n",
      "the sum : 6\n",
      "the sum : 12\n",
      "the sum : 20\n",
      "the sum : 30\n",
      "the sum : 42\n",
      "the sum : 56\n",
      "the sum : 72\n",
      "the sum : 90\n",
      "the sum : 110\n",
      "the sum : 132\n",
      "the sum : 156\n",
      "the sum : 182\n",
      "the sum : 210\n",
      "the sum : 240\n",
      "the sum : 272\n",
      "the sum : 306\n",
      "the sum : 342\n",
      "the sum : 380\n",
      "the sum : 420\n",
      "the sum : 462\n",
      "the sum : 506\n",
      "the sum : 552\n",
      "the sum : 600\n",
      "the sum : 650\n"
     ]
    }
   ],
   "source": [
    "sum_of_evens = 0\n",
    "for i in range(2,51,2):\n",
    "    sum_of_evens += i\n",
    "    print(\"the sum :\",sum_of_evens)"
   ]
  },
  {
   "cell_type": "code",
   "execution_count": 63,
   "id": "a706c494-6c20-4ee8-8202-6f3564feb0a9",
   "metadata": {},
   "outputs": [
    {
     "name": "stdout",
     "output_type": "stream",
     "text": [
      "1\n",
      "2\n",
      "3\n",
      "4\n",
      "5\n",
      "6\n",
      "7\n",
      "8\n",
      "9\n",
      "10\n",
      "11\n",
      "12\n",
      "13\n",
      "14\n",
      "15\n",
      "16\n",
      "17\n",
      "18\n",
      "19\n",
      "20\n",
      "21\n",
      "22\n",
      "23\n",
      "24\n",
      "25\n",
      "26\n",
      "27\n",
      "28\n",
      "29\n",
      "30\n",
      "31\n",
      "32\n",
      "33\n",
      "34\n",
      "35\n",
      "36\n",
      "37\n",
      "38\n",
      "39\n",
      "40\n",
      "41\n",
      "42\n",
      "43\n",
      "44\n",
      "45\n",
      "46\n",
      "47\n",
      "48\n",
      "49\n",
      "50\n"
     ]
    }
   ],
   "source": [
    "for i in range(1,51):\n",
    "    print(i)"
   ]
  },
  {
   "cell_type": "code",
   "execution_count": 80,
   "id": "273cbc84-aba4-4218-9c36-9385825d3de4",
   "metadata": {},
   "outputs": [
    {
     "name": "stdout",
     "output_type": "stream",
     "text": [
      "odd\n",
      "even\n",
      "odd\n",
      "even\n",
      "odd\n",
      "even\n",
      "odd\n",
      "even\n",
      "odd\n",
      "even\n",
      "odd\n",
      "even\n",
      "odd\n",
      "even\n",
      "odd\n",
      "even\n",
      "odd\n",
      "even\n",
      "odd\n",
      "even\n",
      "odd\n",
      "even\n",
      "odd\n",
      "even\n",
      "odd\n",
      "even\n",
      "odd\n",
      "even\n",
      "odd\n",
      "even\n",
      "odd\n",
      "even\n",
      "odd\n",
      "even\n",
      "odd\n",
      "even\n",
      "odd\n",
      "even\n",
      "odd\n",
      "even\n",
      "odd\n",
      "even\n",
      "odd\n",
      "even\n",
      "odd\n",
      "even\n",
      "odd\n",
      "even\n",
      "odd\n",
      "even\n"
     ]
    }
   ],
   "source": [
    "for i in range(1,51):\n",
    "    if i % 2 == 0:\n",
    "        print(\"even\")\n",
    "    else:\n",
    "        print(\"odd\")"
   ]
  },
  {
   "cell_type": "code",
   "execution_count": 86,
   "id": "6c660943-e270-42e7-a39f-410ffa10167b",
   "metadata": {},
   "outputs": [
    {
     "name": "stdout",
     "output_type": "stream",
     "text": [
      "the sum of all even numbers between 1 and 50: 2\n",
      "the sum of all even numbers between 1 and 50: 6\n",
      "the sum of all even numbers between 1 and 50: 12\n",
      "the sum of all even numbers between 1 and 50: 20\n",
      "the sum of all even numbers between 1 and 50: 30\n",
      "the sum of all even numbers between 1 and 50: 42\n",
      "the sum of all even numbers between 1 and 50: 56\n",
      "the sum of all even numbers between 1 and 50: 72\n",
      "the sum of all even numbers between 1 and 50: 90\n",
      "the sum of all even numbers between 1 and 50: 110\n",
      "the sum of all even numbers between 1 and 50: 132\n",
      "the sum of all even numbers between 1 and 50: 156\n",
      "the sum of all even numbers between 1 and 50: 182\n",
      "the sum of all even numbers between 1 and 50: 210\n",
      "the sum of all even numbers between 1 and 50: 240\n",
      "the sum of all even numbers between 1 and 50: 272\n",
      "the sum of all even numbers between 1 and 50: 306\n",
      "the sum of all even numbers between 1 and 50: 342\n",
      "the sum of all even numbers between 1 and 50: 380\n",
      "the sum of all even numbers between 1 and 50: 420\n",
      "the sum of all even numbers between 1 and 50: 462\n",
      "the sum of all even numbers between 1 and 50: 506\n",
      "the sum of all even numbers between 1 and 50: 552\n",
      "the sum of all even numbers between 1 and 50: 600\n",
      "the sum of all even numbers between 1 and 50: 650\n"
     ]
    }
   ],
   "source": [
    "sum_of_evens = 0\n",
    "for i in range(1,51):\n",
    "    if i % 2 == 0:\n",
    "        sum_of_evens += i\n",
    "        print(\"the sum of all even numbers between 1 and 50:\",sum_of_evens)"
   ]
  },
  {
   "cell_type": "markdown",
   "id": "410e93d9-1e80-49c9-8769-1cea8c8093c8",
   "metadata": {},
   "source": [
    "## Q.7"
   ]
  },
  {
   "cell_type": "code",
   "execution_count": null,
   "id": "ec7f5583-d84e-4efa-a97a-7aea0469e15a",
   "metadata": {},
   "outputs": [],
   "source": [
    "Q7. Write a Python program that prints the multiplication table for a given number (between 1 and 10) using a for loop.\n",
    "Hint:\n",
    "1.\tAsk the user for a number between 1 and 10 .\n",
    "2.\tUse a for loop to iterate through the numbers from 1 to 10.\n",
    "3.\tFor each iteration, calculate the product of the given number and the current number in the loop.\n",
    "4.\tPrint the result in a readable format (e.g., 5 x 1 = 5).\n",
    "5.\tEnsure the program works correctly for any number between 1 and 10.\n",
    "Output Hint:\n",
    "4 x 1 = 4\n",
    "4 x 2 = 8\n",
    "4 x 3 = 12\n",
    "4 x 4 = 16\n",
    "4 x 5 = 20\n",
    "4 x 6 = 24\n",
    "4 x 7 = 28\n",
    "4 x 8 = 32\n",
    "4 x 9 = 36\n",
    "4 x 10 = 40\n"
   ]
  },
  {
   "cell_type": "code",
   "execution_count": 6,
   "id": "dd9e568c-2b64-4a72-bf53-755cb6528e1e",
   "metadata": {},
   "outputs": [
    {
     "name": "stdin",
     "output_type": "stream",
     "text": [
      "enter a number between 1 and 10: 3\n"
     ]
    },
    {
     "name": "stdout",
     "output_type": "stream",
     "text": [
      " multiplication table for 3:\n",
      "3 * 1 = 3\n",
      "3 * 2 = 6\n",
      "3 * 3 = 9\n",
      "3 * 4 = 12\n",
      "3 * 5 = 15\n",
      "3 * 6 = 18\n",
      "3 * 7 = 21\n",
      "3 * 8 = 24\n",
      "3 * 9 = 27\n",
      "3 * 10 = 30\n"
     ]
    }
   ],
   "source": [
    "number = int(input(\"enter a number between 1 and 10:\"))\n",
    "if 1 <= number <= 10:\n",
    "    print(f\" multiplication table for {number}:\")\n",
    "    for i in range(1,11):\n",
    "        print(f\"{number} * {i} = {number * i}\")\n",
    "else:\n",
    "    print(\"Invalid input.The number between 1 and 10.\")"
   ]
  },
  {
   "cell_type": "markdown",
   "id": "e68837f0-eca5-4bb9-baf4-af71be484c6b",
   "metadata": {},
   "source": [
    "## Q.8"
   ]
  },
  {
   "cell_type": "code",
   "execution_count": null,
   "id": "89a1740b-ba4d-4528-b00d-d104f99ec194",
   "metadata": {},
   "outputs": [],
   "source": [
    "Q8. Power of a Number\n",
    "Write a Python program that takes a number and prints the powers of the number (starting from 1 to 10) using a while loop. For example, if the user inputs 3, the output should be:\n",
    "3^1 = 3\n",
    "3^2 = 9\n",
    "3^3 = 27\n",
    "... up to 3^10.\n"
   ]
  },
  {
   "cell_type": "code",
   "execution_count": 9,
   "id": "a029327c-69ce-4caf-ae3c-300acd6d1962",
   "metadata": {},
   "outputs": [
    {
     "name": "stdin",
     "output_type": "stream",
     "text": [
      "enter a number: 9\n"
     ]
    },
    {
     "name": "stdout",
     "output_type": "stream",
     "text": [
      "9 ^ 1 = 9\n",
      "9 ^ 2 = 81\n",
      "9 ^ 3 = 729\n",
      "9 ^ 4 = 6561\n",
      "9 ^ 5 = 59049\n",
      "9 ^ 6 = 531441\n",
      "9 ^ 7 = 4782969\n",
      "9 ^ 8 = 43046721\n",
      "9 ^ 9 = 387420489\n",
      "9 ^ 10 = 3486784401\n"
     ]
    }
   ],
   "source": [
    "power = int(input(\"enter a number:\"))\n",
    "exponent = 1\n",
    "while exponent <= 10:\n",
    "    print(f\"{power} ^ {exponent} = {power ** exponent}\")\n",
    "    exponent += 1"
   ]
  },
  {
   "cell_type": "markdown",
   "id": "2c1cb1c2-bbc9-46f1-87cf-92ad4e2dafa9",
   "metadata": {},
   "source": [
    "## Q.9 "
   ]
  },
  {
   "cell_type": "code",
   "execution_count": null,
   "id": "19c2e687-ffa4-48f0-bf70-6214bd2458e4",
   "metadata": {},
   "outputs": [],
   "source": [
    "Q9. Problem Statement: Write a Python program that takes an integer input from the user and counts down from that number to 0. The program should display the current number at each step until it reaches 0, at which point it should print a message indicating the countdown is finished\n",
    "Output Hint:\n",
    "Enter a number to start the countdown: 3\n",
    "3\n",
    "2\n",
    "1\n",
    "0\n",
    "Countdown finished!\n"
   ]
  },
  {
   "cell_type": "code",
   "execution_count": 14,
   "id": "cce3d9a4-6907-4a00-85f0-aeb5e529fa1d",
   "metadata": {},
   "outputs": [
    {
     "name": "stdin",
     "output_type": "stream",
     "text": [
      "enter a number: 22\n"
     ]
    },
    {
     "name": "stdout",
     "output_type": "stream",
     "text": [
      "Enter a number to start the countdown: 22\n",
      "Enter a number to start the countdown: 21\n",
      "Enter a number to start the countdown: 20\n",
      "Enter a number to start the countdown: 19\n",
      "Enter a number to start the countdown: 18\n",
      "Enter a number to start the countdown: 17\n",
      "Enter a number to start the countdown: 16\n",
      "Enter a number to start the countdown: 15\n",
      "Enter a number to start the countdown: 14\n",
      "Enter a number to start the countdown: 13\n",
      "Enter a number to start the countdown: 12\n",
      "Enter a number to start the countdown: 11\n",
      "Enter a number to start the countdown: 10\n",
      "Enter a number to start the countdown: 9\n",
      "Enter a number to start the countdown: 8\n",
      "Enter a number to start the countdown: 7\n",
      "Enter a number to start the countdown: 6\n",
      "Enter a number to start the countdown: 5\n",
      "Enter a number to start the countdown: 4\n",
      "Enter a number to start the countdown: 3\n",
      "Enter a number to start the countdown: 2\n",
      "Enter a number to start the countdown: 1\n",
      "Enter a number to start the countdown: 0\n",
      "countdown finished!\n"
     ]
    }
   ],
   "source": [
    "number = int(input(\"enter a number:\"))\n",
    "countdown = number\n",
    "while countdown >= 0:\n",
    "    print(f\"Enter a number to start the countdown: {countdown}\")\n",
    "    countdown -= 1\n",
    "print(\"countdown finished!\")"
   ]
  },
  {
   "cell_type": "markdown",
   "id": "c6b0d1f8-1adf-4626-a663-71dcb370d8fa",
   "metadata": {},
   "source": [
    "## Q.10"
   ]
  },
  {
   "cell_type": "code",
   "execution_count": null,
   "id": "33c51a94-39e2-457b-9af5-cc6a0fcf5b9b",
   "metadata": {},
   "outputs": [],
   "source": [
    "Q10. Write a Python program that takes an integer input n from the user and generates a right-angled triangle pattern of stars (*) with n rows. The first row should contain 1 star, the second row 2 stars, the third row 3 stars, and so on until the nth row.\n",
    "Ensure the stars in each row are separated by spaces, and each row starts on a new line.\n",
    "# Pattern:\n",
    "*\n",
    "**\n",
    "***\n",
    "****\n",
    "*****\n"
   ]
  },
  {
   "cell_type": "code",
   "execution_count": 40,
   "id": "1b55a6da-7cba-4a67-b510-7bd86400264d",
   "metadata": {},
   "outputs": [
    {
     "name": "stdin",
     "output_type": "stream",
     "text": [
      "enter a number of rows: 1\n"
     ]
    },
    {
     "name": "stdout",
     "output_type": "stream",
     "text": [
      "*\n"
     ]
    }
   ],
   "source": [
    "n = int(input(\"enter a number of rows:\"))\n",
    "if 1 <= n <= 9:\n",
    "    for i in range(1, n + 1):\n",
    "        print(\" \".join(\"*\" * i))\n",
    "else:\n",
    "    print(\"invalid row number\")"
   ]
  },
  {
   "cell_type": "code",
   "execution_count": null,
   "id": "b76c8977-7edc-4025-a838-ad622d2aab20",
   "metadata": {},
   "outputs": [],
   "source": []
  },
  {
   "cell_type": "code",
   "execution_count": null,
   "id": "b7c08ac6-af1b-4b7f-90c8-de3937a291ec",
   "metadata": {},
   "outputs": [],
   "source": []
  },
  {
   "cell_type": "code",
   "execution_count": null,
   "id": "ad9648f5-09c6-422e-bbec-8517a0a3fd07",
   "metadata": {},
   "outputs": [],
   "source": []
  },
  {
   "cell_type": "code",
   "execution_count": null,
   "id": "f2e0edbf-c10b-4d9a-a6b5-d0c728ed0639",
   "metadata": {},
   "outputs": [],
   "source": []
  },
  {
   "cell_type": "code",
   "execution_count": null,
   "id": "cb4a71ad-131e-4acd-871a-a914d3f4759e",
   "metadata": {},
   "outputs": [],
   "source": []
  },
  {
   "cell_type": "code",
   "execution_count": null,
   "id": "ec23e070-5c23-47d7-a702-405fbfc1c88a",
   "metadata": {},
   "outputs": [],
   "source": []
  },
  {
   "cell_type": "code",
   "execution_count": null,
   "id": "7d9b49d0-769f-4e0d-85a5-2f253fcf6631",
   "metadata": {},
   "outputs": [],
   "source": []
  },
  {
   "cell_type": "code",
   "execution_count": null,
   "id": "fa3daccd-0433-44bf-a8fa-c2c7c6463cfc",
   "metadata": {},
   "outputs": [],
   "source": []
  },
  {
   "cell_type": "code",
   "execution_count": null,
   "id": "8e346f0f-b117-41a6-ad80-7cfc924a2e41",
   "metadata": {},
   "outputs": [],
   "source": []
  },
  {
   "cell_type": "code",
   "execution_count": null,
   "id": "ae4dfc57-aa8d-4606-b812-270d3ba14f23",
   "metadata": {},
   "outputs": [],
   "source": []
  },
  {
   "cell_type": "code",
   "execution_count": null,
   "id": "d2074cdb-ba59-4fd8-b49f-f4eb4c0fafa3",
   "metadata": {},
   "outputs": [],
   "source": []
  },
  {
   "cell_type": "code",
   "execution_count": null,
   "id": "aae178e4-2e23-47eb-b057-ba0c26138797",
   "metadata": {},
   "outputs": [],
   "source": []
  },
  {
   "cell_type": "code",
   "execution_count": null,
   "id": "399a4fb9-d94c-4e98-9fea-ef78837421a9",
   "metadata": {},
   "outputs": [],
   "source": []
  },
  {
   "cell_type": "code",
   "execution_count": null,
   "id": "ee9763e9-2db0-49be-aa92-6a09a7718235",
   "metadata": {},
   "outputs": [],
   "source": []
  },
  {
   "cell_type": "code",
   "execution_count": null,
   "id": "6ff382f1-a168-449c-b149-0b2023bbf9bd",
   "metadata": {},
   "outputs": [],
   "source": []
  },
  {
   "cell_type": "code",
   "execution_count": null,
   "id": "3fec8c88-4354-43db-91cf-deaf58132fda",
   "metadata": {},
   "outputs": [],
   "source": []
  },
  {
   "cell_type": "code",
   "execution_count": null,
   "id": "eb601295-dd3c-4831-9025-026ac4655584",
   "metadata": {},
   "outputs": [],
   "source": []
  },
  {
   "cell_type": "code",
   "execution_count": null,
   "id": "006d3f36-ce25-49fe-bab8-f8c02b520988",
   "metadata": {},
   "outputs": [],
   "source": []
  },
  {
   "cell_type": "code",
   "execution_count": null,
   "id": "9662b3e2-b092-4b5f-8848-e446d2786d32",
   "metadata": {},
   "outputs": [],
   "source": []
  },
  {
   "cell_type": "code",
   "execution_count": null,
   "id": "5f24b1eb-0cb3-47e7-83fc-1277ae8ae1c0",
   "metadata": {},
   "outputs": [],
   "source": []
  },
  {
   "cell_type": "code",
   "execution_count": null,
   "id": "8dc34179-006e-4b5f-bf5a-073a947dab76",
   "metadata": {},
   "outputs": [],
   "source": []
  },
  {
   "cell_type": "code",
   "execution_count": null,
   "id": "d8e3486d-5217-4505-b5e2-4f4f9f864494",
   "metadata": {},
   "outputs": [],
   "source": []
  },
  {
   "cell_type": "code",
   "execution_count": null,
   "id": "90dfe649-ce3b-4429-9e74-06178efa2646",
   "metadata": {},
   "outputs": [],
   "source": []
  },
  {
   "cell_type": "code",
   "execution_count": null,
   "id": "95c8aea1-9135-425a-999e-b5bbbb4fa143",
   "metadata": {},
   "outputs": [],
   "source": []
  },
  {
   "cell_type": "code",
   "execution_count": null,
   "id": "fd9afb61-1129-4659-a708-fbe85e0e0e69",
   "metadata": {},
   "outputs": [],
   "source": []
  },
  {
   "cell_type": "code",
   "execution_count": null,
   "id": "30cac0e2-90c2-43ae-83a3-ccf50858844a",
   "metadata": {},
   "outputs": [],
   "source": []
  },
  {
   "cell_type": "code",
   "execution_count": null,
   "id": "7e260df0-a155-4517-bcdf-4e537ad97fe0",
   "metadata": {},
   "outputs": [],
   "source": []
  },
  {
   "cell_type": "code",
   "execution_count": null,
   "id": "bbd22f32-392c-4538-968b-b47397b2a828",
   "metadata": {},
   "outputs": [],
   "source": []
  },
  {
   "cell_type": "code",
   "execution_count": null,
   "id": "f7d47496-62bd-483a-a10a-b60315ed5f69",
   "metadata": {},
   "outputs": [],
   "source": []
  },
  {
   "cell_type": "code",
   "execution_count": null,
   "id": "f54035dc-5737-4c08-8877-2f440950ef32",
   "metadata": {},
   "outputs": [],
   "source": []
  },
  {
   "cell_type": "code",
   "execution_count": null,
   "id": "ddaa6799-5ec6-49eb-bf4a-900ae3afcf0a",
   "metadata": {},
   "outputs": [],
   "source": []
  },
  {
   "cell_type": "code",
   "execution_count": null,
   "id": "3cd2d3b1-cfbf-4029-9209-bf1745eb84c7",
   "metadata": {},
   "outputs": [],
   "source": []
  },
  {
   "cell_type": "code",
   "execution_count": null,
   "id": "982db548-c3a3-46fd-97ae-eb3b16f2743f",
   "metadata": {},
   "outputs": [],
   "source": []
  },
  {
   "cell_type": "code",
   "execution_count": null,
   "id": "804a2f1e-5e96-4e46-bdbd-06cdc797b04c",
   "metadata": {},
   "outputs": [],
   "source": []
  },
  {
   "cell_type": "code",
   "execution_count": null,
   "id": "df3dbd6b-a86a-45b7-81ae-083a90085db9",
   "metadata": {},
   "outputs": [],
   "source": []
  },
  {
   "cell_type": "code",
   "execution_count": null,
   "id": "11950997-69cd-4420-a41d-026972bbd369",
   "metadata": {},
   "outputs": [],
   "source": []
  },
  {
   "cell_type": "code",
   "execution_count": null,
   "id": "2aa59c2f-5dbc-4c12-a142-16f4d49ebac6",
   "metadata": {},
   "outputs": [],
   "source": []
  },
  {
   "cell_type": "code",
   "execution_count": null,
   "id": "92146fae-c029-450b-892c-99f6c8a93e7f",
   "metadata": {},
   "outputs": [],
   "source": []
  },
  {
   "cell_type": "code",
   "execution_count": null,
   "id": "a4502156-e31a-4bf9-9c16-9cfc65d16a1e",
   "metadata": {},
   "outputs": [],
   "source": []
  },
  {
   "cell_type": "code",
   "execution_count": null,
   "id": "68eb3afb-759f-4ae7-bf0c-dfdcc914c605",
   "metadata": {},
   "outputs": [],
   "source": []
  },
  {
   "cell_type": "code",
   "execution_count": null,
   "id": "2dec7bb4-a51d-419f-88ae-eb5e9d55b222",
   "metadata": {},
   "outputs": [],
   "source": []
  },
  {
   "cell_type": "code",
   "execution_count": null,
   "id": "7242f4d3-7961-4645-8eef-3e7a1325d2a9",
   "metadata": {},
   "outputs": [],
   "source": []
  },
  {
   "cell_type": "code",
   "execution_count": null,
   "id": "bbffccac-69df-48ef-97f4-9600304caf6a",
   "metadata": {},
   "outputs": [],
   "source": []
  },
  {
   "cell_type": "code",
   "execution_count": null,
   "id": "e99de110-b49b-4a4d-8325-a579bc5dea1b",
   "metadata": {},
   "outputs": [],
   "source": []
  },
  {
   "cell_type": "code",
   "execution_count": null,
   "id": "fc1f195f-dad2-4087-99df-6a8afa15f388",
   "metadata": {},
   "outputs": [],
   "source": []
  },
  {
   "cell_type": "code",
   "execution_count": null,
   "id": "cdb2f71e-856e-415f-a14d-17a4d1fb3750",
   "metadata": {},
   "outputs": [],
   "source": []
  },
  {
   "cell_type": "code",
   "execution_count": null,
   "id": "5e313654-34f0-4851-9d15-92166ef8b18a",
   "metadata": {},
   "outputs": [],
   "source": []
  },
  {
   "cell_type": "code",
   "execution_count": null,
   "id": "2fe00202-cca8-4a67-9801-273c706fa8e4",
   "metadata": {},
   "outputs": [],
   "source": []
  },
  {
   "cell_type": "code",
   "execution_count": null,
   "id": "b8d6ceef-b168-4e65-9c5d-c5a656584079",
   "metadata": {},
   "outputs": [],
   "source": []
  },
  {
   "cell_type": "code",
   "execution_count": null,
   "id": "9944f42a-f684-41ba-8826-1718b9fd4a71",
   "metadata": {},
   "outputs": [],
   "source": []
  },
  {
   "cell_type": "code",
   "execution_count": null,
   "id": "76686560-697e-4bc4-a7ce-69dc69212bf8",
   "metadata": {},
   "outputs": [],
   "source": []
  },
  {
   "cell_type": "code",
   "execution_count": null,
   "id": "acf1bc7f-9096-40c7-bd8e-9f20104ab917",
   "metadata": {},
   "outputs": [],
   "source": []
  },
  {
   "cell_type": "code",
   "execution_count": null,
   "id": "2f1987d3-e4f1-40cb-b378-46272af37b41",
   "metadata": {},
   "outputs": [],
   "source": []
  },
  {
   "cell_type": "code",
   "execution_count": null,
   "id": "7686f194-02ea-4e4f-bf99-c005cb87b1ec",
   "metadata": {},
   "outputs": [],
   "source": []
  }
 ],
 "metadata": {
  "kernelspec": {
   "display_name": "Python 3 (ipykernel)",
   "language": "python",
   "name": "python3"
  },
  "language_info": {
   "codemirror_mode": {
    "name": "ipython",
    "version": 3
   },
   "file_extension": ".py",
   "mimetype": "text/x-python",
   "name": "python",
   "nbconvert_exporter": "python",
   "pygments_lexer": "ipython3",
   "version": "3.12.7"
  }
 },
 "nbformat": 4,
 "nbformat_minor": 5
}

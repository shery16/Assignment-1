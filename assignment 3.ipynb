{
 "cells": [
  {
   "cell_type": "markdown",
   "id": "7123ff3c-90cc-4532-a0b3-772a593f6510",
   "metadata": {},
   "source": [
    "## Q.1 "
   ]
  },
  {
   "cell_type": "code",
   "execution_count": null,
   "id": "d3a7fbb6-d759-457a-a786-e4403c8959d0",
   "metadata": {},
   "outputs": [],
   "source": [
    "Q1. Write program to check a person’s eligibility for a loan based on age, credit score, and income. This time, the eligibility criteria will be:\n",
    "The person must be 18 years or older. The person must have a credit score of 650 or higher. The person must have an annual income of at least 30000 dollars If the person has a credit score of 700 or higher, they may still be eligible with an income of 25000 dollars or more.\n"
   ]
  },
  {
   "cell_type": "code",
   "execution_count": 7,
   "id": "fc49b423-ecc5-4472-9dfe-12fc2afc44fe",
   "metadata": {},
   "outputs": [
    {
     "name": "stdin",
     "output_type": "stream",
     "text": [
      "enter your age: 20\n",
      "enter credit score: 660\n",
      "enter your income: 26000\n"
     ]
    },
    {
     "name": "stdout",
     "output_type": "stream",
     "text": [
      "not eligible for loan\n"
     ]
    }
   ],
   "source": [
    "age = int(input(\"enter your age:\"))\n",
    "credit_score = int(input(\"enter credit score:\"))\n",
    "income = float(input(\"enter your income:\"))\n",
    "\n",
    "# Eligibility check\n",
    "\n",
    "if age >= 18 and credit_score >= 650 and income >= 30000 :\n",
    "    print(\"eligible for loan\")\n",
    "elif age >= 18 and credit_score >= 700 and income >= 25000 :\n",
    "    print(\"eligible for loan\")\n",
    "else:\n",
    "    print(\"not eligible for loan\")"
   ]
  },
  {
   "cell_type": "markdown",
   "id": "86672abd-3838-4daf-90b7-28bcc7aab695",
   "metadata": {},
   "source": [
    "## Q.2"
   ]
  },
  {
   "cell_type": "code",
   "execution_count": null,
   "id": "8f964469-e3fa-40e9-8a05-cad90dfc0e80",
   "metadata": {},
   "outputs": [],
   "source": [
    "Q2. Write a Python program that checks if a person is an adult (age ≥ 18).\n",
    "Take the age as input.\n",
    "If the person is underage (age < 18), show message: \"You are underage\" and don't ask for experience.\n",
    "If the person is an adult, take years of experience as input and print:\n",
    "\"You have a lot of experience.\" (10+ years)\n",
    "\"You have moderate experience.\" (5-9 years)\n",
    "\"You are relatively new.\" (2-4 years)\n",
    "\"You are just starting out.\" (less than 2 years)\n"
   ]
  },
  {
   "cell_type": "code",
   "execution_count": 11,
   "id": "b404eec9-718a-49be-9e53-450337f9c84c",
   "metadata": {},
   "outputs": [
    {
     "name": "stdin",
     "output_type": "stream",
     "text": [
      "enter your age: 18\n",
      "enter your years of experience: 1\n"
     ]
    },
    {
     "name": "stdout",
     "output_type": "stream",
     "text": [
      "you are just starting out\n"
     ]
    }
   ],
   "source": [
    "age = int(input(\"enter your age:\"))\n",
    "if age < 18 :\n",
    "    print(\"you are underage\")\n",
    "else: experience = int(input(\"enter your years of experience:\"))\n",
    "    \n",
    "# Eligibility Check\n",
    "   \n",
    "if experience >= 10 :\n",
    "    print(\"you have a lot of experience\")\n",
    "elif experience >= 5 <= 9 :\n",
    "    print(\"you have moderate experience\")\n",
    "elif experience >= 2 <= 4 :\n",
    "    print(\"you are relatively new\")\n",
    "else :\n",
    "    print(\"you are just starting out\")"
   ]
  },
  {
   "cell_type": "markdown",
   "id": "76fe7bbb-09d0-481d-ad9f-414c3cd876fd",
   "metadata": {},
   "source": [
    "## Q.3 "
   ]
  },
  {
   "cell_type": "code",
   "execution_count": null,
   "id": "7f82ffa1-6eab-4e16-9053-a33ab3c00441",
   "metadata": {},
   "outputs": [],
   "source": [
    "Q3. Write a program to explore below variables\n",
    "a)\tPrint their memory address (to check if python assigns same address of different variables having same element)\n",
    "b)\tFind memory size and append them in a list, use this list to find data type having least memory size\n",
    "c)\tPrint final name of data type which has lowest memory\n",
    "Result will help a programmer to decide which variable is storing less memory and variable locations\n"
   ]
  },
  {
   "cell_type": "code",
   "execution_count": 14,
   "id": "f66e1e01-fd47-44c1-a50d-8ff85eab8544",
   "metadata": {},
   "outputs": [],
   "source": [
    "import sys"
   ]
  },
  {
   "cell_type": "code",
   "execution_count": 15,
   "id": "c410f904-8666-417d-9174-d5c1ca3e6368",
   "metadata": {},
   "outputs": [
    {
     "name": "stderr",
     "output_type": "stream",
     "text": [
      "ERROR: Could not find a version that satisfies the requirement sys (from versions: none)\n",
      "ERROR: No matching distribution found for sys\n"
     ]
    }
   ],
   "source": [
    "!pip install sys"
   ]
  },
  {
   "cell_type": "code",
   "execution_count": 17,
   "id": "c7b153a4-f3de-4dab-8967-770f78934f76",
   "metadata": {},
   "outputs": [
    {
     "name": "stdout",
     "output_type": "stream",
     "text": [
      "False\n",
      "False\n",
      "False\n",
      "False\n",
      "False\n",
      "140722031243224\n",
      "2662813501072\n",
      "2662813591200\n",
      "2662813290240\n",
      "2662813432368\n",
      "2662813266464\n",
      "2662813707136\n",
      "140722030115712\n"
     ]
    }
   ],
   "source": [
    "a = 50\n",
    "b = 50.0\n",
    "c = \"50\"\n",
    "d = [50]\n",
    "e = (42,)\n",
    "f = {50}\n",
    "g = {\"key\": 50}\n",
    "h = True\n",
    "\n",
    "print (a is b)\n",
    "print (a is c)\n",
    "print (a is d)\n",
    "print(a is e)\n",
    "print (a is f)\n",
    "print(id(a))\n",
    "print(id(b))\n",
    "print(id(c))\n",
    "print(id(d))\n",
    "print(id(e))\n",
    "print(id(f))\n",
    "print(id(g))\n",
    "print(id(h))"
   ]
  },
  {
   "cell_type": "code",
   "execution_count": 31,
   "id": "7774596d-17e5-4bb4-a6f7-0a0c50936340",
   "metadata": {},
   "outputs": [
    {
     "name": "stdout",
     "output_type": "stream",
     "text": [
      "28\n",
      "24\n",
      "43\n",
      "64\n",
      "48\n",
      "216\n",
      "184\n",
      "28\n"
     ]
    }
   ],
   "source": [
    "a = 50\n",
    "b = 50.0\n",
    "c = \"50\"\n",
    "d = [50]\n",
    "e = (42,)\n",
    "f = {50}\n",
    "g = {\"key\": 50}\n",
    "h = True\n",
    "\n",
    "print(sys.getsizeof(a))\n",
    "print(sys.getsizeof(b))\n",
    "print(sys.getsizeof(c))\n",
    "print(sys.getsizeof(d))\n",
    "print(sys.getsizeof(e))\n",
    "print(sys.getsizeof(f))\n",
    "print(sys.getsizeof(g))\n",
    "print(sys.getsizeof(h))"
   ]
  },
  {
   "cell_type": "code",
   "execution_count": null,
   "id": "3bb08ede-3691-4931-9d68-1dc0953d84a5",
   "metadata": {},
   "outputs": [],
   "source": [
    "float has lowest memory."
   ]
  },
  {
   "cell_type": "markdown",
   "id": "0c63b02c-579f-483e-958d-785341f8b129",
   "metadata": {},
   "source": [
    "## Q.4"
   ]
  },
  {
   "cell_type": "code",
   "execution_count": null,
   "id": "dae56854-0ce0-4ab8-870a-1d976f5417b1",
   "metadata": {},
   "outputs": [],
   "source": [
    "Q4. Write a Python program that asks the user to enter an email address. The program should check if the email contains the characters @ and \".\" (ignoring case). If either character is present, print \"Email format is valid.\" Otherwise, print \"Invalid email format.\""
   ]
  },
  {
   "cell_type": "code",
   "execution_count": 33,
   "id": "3fc98bd5-f79b-43c3-a06f-b79eeb3c782e",
   "metadata": {},
   "outputs": [
    {
     "name": "stdin",
     "output_type": "stream",
     "text": [
      "enter your email: sherozdhillu.com\n"
     ]
    },
    {
     "name": "stdout",
     "output_type": "stream",
     "text": [
      "invalid email format\n"
     ]
    }
   ],
   "source": [
    "email = input(\"enter your email:\")\n",
    "\n",
    "if \"@\" in email and \".\" in email:\n",
    "    print(\"email format is valid\")\n",
    "else:\n",
    "    print(\"invalid email format\")"
   ]
  },
  {
   "cell_type": "markdown",
   "id": "33f66cff-3fdd-462a-9531-53d74feca560",
   "metadata": {},
   "source": [
    "## Q.5"
   ]
  },
  {
   "cell_type": "code",
   "execution_count": null,
   "id": "05e0de39-a6af-4cca-8208-0930ef024b8a",
   "metadata": {},
   "outputs": [],
   "source": [
    "Q5. Write a python program to know data type of each element stored in a tuple, append the data types in a list. Show final output in a list as data types of tuple elements\n",
    "x = (11,22.333,'apple',[1,2,3],('a','b'))\n"
   ]
  },
  {
   "cell_type": "code",
   "execution_count": 6,
   "id": "1b2ec276-e6f6-4c90-bacf-d05399da2a5b",
   "metadata": {},
   "outputs": [],
   "source": [
    "x = (11,22.333,'apple',{1,2,3},('a','b'))"
   ]
  },
  {
   "cell_type": "code",
   "execution_count": 8,
   "id": "bdb9fc33-7836-4145-a8c3-47eb0d5aef56",
   "metadata": {},
   "outputs": [
    {
     "data": {
      "text/plain": [
       "int"
      ]
     },
     "execution_count": 8,
     "metadata": {},
     "output_type": "execute_result"
    }
   ],
   "source": [
    "type(x[0])"
   ]
  },
  {
   "cell_type": "code",
   "execution_count": 38,
   "id": "ba42d63b-158e-4bd1-b5f8-c295514a45d0",
   "metadata": {},
   "outputs": [
    {
     "data": {
      "text/plain": [
       "float"
      ]
     },
     "execution_count": 38,
     "metadata": {},
     "output_type": "execute_result"
    }
   ],
   "source": [
    "type(x[1])"
   ]
  },
  {
   "cell_type": "code",
   "execution_count": 44,
   "id": "5b2af908-fe8d-4a02-aa5a-78479eb37e6e",
   "metadata": {},
   "outputs": [
    {
     "data": {
      "text/plain": [
       "str"
      ]
     },
     "execution_count": 44,
     "metadata": {},
     "output_type": "execute_result"
    }
   ],
   "source": [
    "type(x[2])"
   ]
  },
  {
   "cell_type": "code",
   "execution_count": 45,
   "id": "3e051154-b29c-4b7f-b127-86afa87a872d",
   "metadata": {},
   "outputs": [
    {
     "data": {
      "text/plain": [
       "set"
      ]
     },
     "execution_count": 45,
     "metadata": {},
     "output_type": "execute_result"
    }
   ],
   "source": [
    "type(x[3])"
   ]
  },
  {
   "cell_type": "code",
   "execution_count": 46,
   "id": "501e2f2e-b574-4ca0-b6eb-59dad015f444",
   "metadata": {},
   "outputs": [
    {
     "data": {
      "text/plain": [
       "tuple"
      ]
     },
     "execution_count": 46,
     "metadata": {},
     "output_type": "execute_result"
    }
   ],
   "source": [
    "type(x[4])"
   ]
  },
  {
   "cell_type": "code",
   "execution_count": 51,
   "id": "4ecb2847-ea76-4e51-8e07-7d83d4640979",
   "metadata": {},
   "outputs": [
    {
     "data": {
      "text/plain": [
       "tuple"
      ]
     },
     "execution_count": 51,
     "metadata": {},
     "output_type": "execute_result"
    }
   ],
   "source": [
    "type(x)"
   ]
  },
  {
   "cell_type": "code",
   "execution_count": 52,
   "id": "c8c2098c-fa41-489a-b631-57080fc02862",
   "metadata": {},
   "outputs": [
    {
     "data": {
      "text/plain": [
       "tuple"
      ]
     },
     "execution_count": 52,
     "metadata": {},
     "output_type": "execute_result"
    }
   ],
   "source": [
    "type(x[0:4])"
   ]
  },
  {
   "cell_type": "markdown",
   "id": "b45ba256-8fd6-4e0b-893c-28871c435437",
   "metadata": {},
   "source": [
    "## Q.6"
   ]
  },
  {
   "cell_type": "code",
   "execution_count": null,
   "id": "2ebe2ade-e2ac-4228-9bc1-0f372ea8566e",
   "metadata": {},
   "outputs": [],
   "source": [
    "Q6. Write a Python program that:\n",
    "Checks if a given username exists in a list of active users.\n",
    "Verifies if the user is the admin using identity operators.\n",
    "Hints:\n",
    "Use a list of tuples where each tuple contains a username and role\n",
    "[(\"alice\", \"admin\"),\n",
    "(\"bob\", \"user\"),\n",
    "(\"charlie\", \"moderator\")]\n",
    "Use the in operator to check if the username exists in the list.\n",
    "Use the is operator to check if the user is the admin (admin is a specific reference, e.g., (\"alice\", \"admin\")).\n"
   ]
  },
  {
   "cell_type": "code",
   "execution_count": 23,
   "id": "b16ee954-e002-43ff-9e27-c5949c0b9c8e",
   "metadata": {},
   "outputs": [
    {
     "name": "stdin",
     "output_type": "stream",
     "text": [
      "enter your name: arif\n"
     ]
    },
    {
     "name": "stdout",
     "output_type": "stream",
     "text": [
      "regular user\n"
     ]
    }
   ],
   "source": [
    "active_user_list = [(\"ali\",\"admin\"),(\"arif\",\"user\"),(\"ayaz\",\"moderator\"),(\"bilal\",\"user\")]\n",
    "admin_user = (\"ali\",\"admin\")\n",
    "\n",
    "user = input(\"enter your name:\").lower()\n",
    "\n",
    "if user == admin_user[0]:\n",
    "    print(\"admin\")\n",
    "else:\n",
    "    print(\"regular user\")"
   ]
  },
  {
   "cell_type": "code",
   "execution_count": 21,
   "id": "7c234d8d-6dd1-4b02-946f-96dab0881662",
   "metadata": {},
   "outputs": [
    {
     "name": "stdin",
     "output_type": "stream",
     "text": [
      "Enter username to check:  bilal\n"
     ]
    },
    {
     "name": "stdout",
     "output_type": "stream",
     "text": [
      "user not found\n"
     ]
    }
   ],
   "source": [
    "active_users = [(\"alice\", \"admin\"), (\"bob\", \"user\"), (\"charlie\", \"moderator\")]\n",
    "\n",
    "admin_user = (\"alice\", \"admin\")\n",
    "\n",
    "user_input = input(\"Enter username to check: \")\n",
    "\n",
    "user_exists = (user_input, \"admin\") in active_users or (user_input, \"user\") in active_users or (user_input, \"moderator\") in active_users\n",
    "\n",
    "if user_exists:\n",
    "    if (user_input, \"admin\") == admin_user:\n",
    "        print(\"alice\",\"admin\")\n",
    "    else: \n",
    "        print(\"regular user\")\n",
    "else:\n",
    "    print(\"user not found\")"
   ]
  },
  {
   "cell_type": "markdown",
   "id": "15df25ed-bd20-4fc2-b932-2d1c3277b9f2",
   "metadata": {},
   "source": [
    "## Q.7"
   ]
  },
  {
   "cell_type": "code",
   "execution_count": null,
   "id": "da8ed935-6df7-4aec-8ef3-cba92abd9064",
   "metadata": {},
   "outputs": [],
   "source": [
    "Q7. person1 has same family as of person2, write a program to print relation between person1 and person2, if their data is ['father name','mother name','district','family number'] same (Print relation 'Siblings') also check person1 data with person3 which is cousin of person1 (Print relation 'Cousin')\n",
    "Hint:\n",
    "Use identity operator\n"
   ]
  },
  {
   "cell_type": "code",
   "execution_count": 29,
   "id": "0e2087f4-7773-4f46-b1eb-9a183d120aed",
   "metadata": {},
   "outputs": [
    {
     "name": "stdin",
     "output_type": "stream",
     "text": [
      "enter your person number(person1,person2,person3): person3\n"
     ]
    },
    {
     "name": "stdout",
     "output_type": "stream",
     "text": [
      "no relation\n"
     ]
    }
   ],
   "source": [
    "person_number = input(\"enter your person number(person1,person2,person3):\")\n",
    "\n",
    "person1 = ['ahmed','aliya','karachi','2844'] \n",
    "person2 = person1\n",
    "person3 = ['umair','uzma','hyderabad','1234']\n",
    "\n",
    "if person_number == \"person1\" and person1 == person3:\n",
    "\tprint(\"cousins\")\n",
    "elif person_number == \"person1\" and person1 == person2:\n",
    "\tprint(\"siblings\")\n",
    "else:\n",
    "\tprint(\"no relation\")"
   ]
  },
  {
   "cell_type": "markdown",
   "id": "71dd968f-7d4e-43e6-9e1e-b68027eaacd9",
   "metadata": {},
   "source": [
    "## Q.8"
   ]
  },
  {
   "cell_type": "code",
   "execution_count": null,
   "id": "66b27128-720d-4ae2-81ac-49ad024bf5de",
   "metadata": {},
   "outputs": [],
   "source": [
    "Q8. Write a Python program to store and display a book's title, author, year of publication, and price using a tuple.\n",
    "Instructions:\n",
    "Create a tuple to store the book details.\n",
    "Ask the user for the book's title, author, year, and price.\n",
    "Display the stored book information.\n"
   ]
  },
  {
   "cell_type": "code",
   "execution_count": 55,
   "id": "3f900e64-de75-4ec6-a555-646db1384ea5",
   "metadata": {},
   "outputs": [
    {
     "name": "stdin",
     "output_type": "stream",
     "text": [
      "Enter the book title:  100\n",
      "Enter the author's name:  allu\n",
      "Enter the year of publication:  2008\n",
      "Enter the price of the book:  1000 \n"
     ]
    },
    {
     "name": "stdout",
     "output_type": "stream",
     "text": [
      "('100', 'allu', 2008, 1000.0)\n"
     ]
    }
   ],
   "source": [
    "title = input(\"Enter the book title: \")\n",
    "author = input(\"Enter the author's name: \")\n",
    "year = int(input(\"Enter the year of publication: \"))\n",
    "price = float(input(\"Enter the price of the book: \"))\n",
    "\n",
    "book_details = (title, author, year, price)\n",
    "\n",
    "\n",
    "print(book_details)"
   ]
  },
  {
   "cell_type": "markdown",
   "id": "daf309fb-fcd8-4d3d-83da-9967617f70e3",
   "metadata": {},
   "source": [
    "## Q.9"
   ]
  },
  {
   "cell_type": "code",
   "execution_count": null,
   "id": "9ba0ecdf-8fff-4812-b125-faa762cf2e51",
   "metadata": {},
   "outputs": [],
   "source": [
    "Q9. Write a program to check if a user’s chosen subject is available in the list of offered subjects.\n",
    "Instructions:\n",
    "Given a list of subjects, ask the user to input a subject.\n",
    "Display whether the subject is available or not.\n"
   ]
  },
  {
   "cell_type": "code",
   "execution_count": 70,
   "id": "fd96b908-cd79-4db2-ad59-4f1ab617ffbf",
   "metadata": {},
   "outputs": [
    {
     "name": "stdin",
     "output_type": "stream",
     "text": [
      "enter your subject: social studies\n"
     ]
    },
    {
     "name": "stdout",
     "output_type": "stream",
     "text": [
      "not available\n"
     ]
    }
   ],
   "source": [
    "available_subject = [\"english\", \"urdu\", \"math\", \"sindhi\"]\n",
    "subject = input(\"enter your subject:\")\n",
    "if subject in available_subject:\n",
    "    print(\"subject available\")\n",
    "else:\n",
    "    print(\"not available\")"
   ]
  },
  {
   "cell_type": "markdown",
   "id": "0f32702b-a5b9-45b6-8798-d4034cc2c1b4",
   "metadata": {},
   "source": [
    "## Q.10"
   ]
  },
  {
   "cell_type": "code",
   "execution_count": null,
   "id": "f85f54b4-738d-47f7-8775-44c5c74b9dc5",
   "metadata": {},
   "outputs": [],
   "source": [
    "Q10. Write a Python program that performs the following tasks using tuple methods\n",
    "Create a tuple with multiple integer values, including duplicates.\n",
    "Prompt the user to input a number and find the index of its first occurrence in the tuple.\n",
    "Ask the user for another number and count how many times it appears in the tuple.\n",
    "Display appropriate messages based on the results\n"
   ]
  },
  {
   "cell_type": "code",
   "execution_count": null,
   "id": "4d9be5fc-7e71-4c44-8f02-37abe89ebc5f",
   "metadata": {},
   "outputs": [],
   "source": [
    "my_tuple = (123,1,2,3,4,5,4,5,6,7,8)\n",
    "\n"
   ]
  },
  {
   "cell_type": "code",
   "execution_count": null,
   "id": "cd0b11cd-023b-4cb5-a530-6d98a97c3db6",
   "metadata": {},
   "outputs": [],
   "source": []
  },
  {
   "cell_type": "code",
   "execution_count": null,
   "id": "5b77889b-0e94-412d-89f5-c0ffac94aef2",
   "metadata": {},
   "outputs": [],
   "source": []
  },
  {
   "cell_type": "code",
   "execution_count": null,
   "id": "5ab8de4c-fa47-4ba7-a646-ccf0d4fa0374",
   "metadata": {},
   "outputs": [],
   "source": []
  },
  {
   "cell_type": "code",
   "execution_count": null,
   "id": "c0efdb17-6397-4886-8def-4b586c29a651",
   "metadata": {},
   "outputs": [],
   "source": []
  },
  {
   "cell_type": "code",
   "execution_count": null,
   "id": "d283000c-e765-42bc-9729-8aa7344deb0e",
   "metadata": {},
   "outputs": [],
   "source": []
  },
  {
   "cell_type": "code",
   "execution_count": null,
   "id": "c9362c18-0677-4865-b2bc-c12288ae4d54",
   "metadata": {},
   "outputs": [],
   "source": []
  },
  {
   "cell_type": "code",
   "execution_count": null,
   "id": "f8064729-4b4f-49f7-b03c-4fb2f3e57ddf",
   "metadata": {},
   "outputs": [],
   "source": []
  },
  {
   "cell_type": "code",
   "execution_count": null,
   "id": "79627d9d-373c-4b2f-9dda-9c69782cf4ac",
   "metadata": {},
   "outputs": [],
   "source": []
  },
  {
   "cell_type": "code",
   "execution_count": null,
   "id": "c8f040e9-6ba6-4e48-a77d-355f87e27c09",
   "metadata": {},
   "outputs": [],
   "source": []
  },
  {
   "cell_type": "code",
   "execution_count": null,
   "id": "fbda9df5-fff1-48b7-a9b1-7d765e1a3a20",
   "metadata": {},
   "outputs": [],
   "source": []
  },
  {
   "cell_type": "code",
   "execution_count": null,
   "id": "53a65cb4-71bf-4104-964a-bc0b78b19d4e",
   "metadata": {},
   "outputs": [],
   "source": []
  },
  {
   "cell_type": "code",
   "execution_count": null,
   "id": "568e9641-7c68-49c4-ba47-b8c289793795",
   "metadata": {},
   "outputs": [],
   "source": []
  },
  {
   "cell_type": "code",
   "execution_count": null,
   "id": "53c32c84-6858-4de7-8d35-908fcbac18c0",
   "metadata": {},
   "outputs": [],
   "source": []
  },
  {
   "cell_type": "code",
   "execution_count": null,
   "id": "1fb59f64-c328-4b05-b344-855342c5f3bf",
   "metadata": {},
   "outputs": [],
   "source": []
  },
  {
   "cell_type": "code",
   "execution_count": null,
   "id": "d6d5b751-af1f-4530-b396-eee53cb11e11",
   "metadata": {},
   "outputs": [],
   "source": []
  },
  {
   "cell_type": "code",
   "execution_count": null,
   "id": "d31d1238-f1b0-4d44-b890-1d32c9d2893a",
   "metadata": {},
   "outputs": [],
   "source": []
  }
 ],
 "metadata": {
  "kernelspec": {
   "display_name": "Python 3 (ipykernel)",
   "language": "python",
   "name": "python3"
  },
  "language_info": {
   "codemirror_mode": {
    "name": "ipython",
    "version": 3
   },
   "file_extension": ".py",
   "mimetype": "text/x-python",
   "name": "python",
   "nbconvert_exporter": "python",
   "pygments_lexer": "ipython3",
   "version": "3.12.7"
  }
 },
 "nbformat": 4,
 "nbformat_minor": 5
}
